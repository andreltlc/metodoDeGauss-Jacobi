{
 "cells": [
  {
   "cell_type": "code",
   "execution_count": null,
   "metadata": {},
   "outputs": [],
   "source": [
    "from __future__ import division  \n",
    "import numpy as np  \n",
    "from numpy import linalg "
   ]
  },
  {
   "cell_type": "code",
   "execution_count": null,
   "metadata": {},
   "outputs": [
    {
     "ename": "",
     "evalue": "",
     "output_type": "error",
     "traceback": [
      "\u001b[1;31mA execução de células com 'c:\\Users\\andre.carvalho\\AppData\\Local\\Microsoft\\WindowsApps\\python3.11.exe' requer o pacote ipykernel.\n",
      "\u001b[1;31mRun the following command to install 'ipykernel' into the Python environment. \n",
      "\u001b[1;31mCommand: 'c:/Users/andre.carvalho/AppData/Local/Microsoft/WindowsApps/python3.11.exe -m pip install ipykernel -U --user --force-reinstall'"
     ]
    }
   ],
   "source": [
    "def jacobi(A,b,x0,tol,N):  \n",
    "    #preliminares  \n",
    "    A = A.astype('double')  \n",
    "    b = b.astype('double')  \n",
    "    x0 = x0.astype('double')  \n",
    " \n",
    "    n=np.shape(A)[0]  \n",
    "    x = np.zeros(n)  \n",
    "    it = 0  \n",
    "    #iteracoes  \n",
    "    while (it < N):  \n",
    "        it = it+1  \n",
    "        #iteracao de Jacobi  \n",
    "        for i in np.arange(n):  \n",
    "            x[i] = b[i]  \n",
    "            for j in np.concatenate((np.arange(0,i),np.arange(i+1,n))):  \n",
    "                x[i] -= A[i,j]*x0[j]  \n",
    "            x[i] /= A[i,i]  \n",
    "        #tolerancia  \n",
    "        if (np.linalg.norm(x-x0,np.inf) < tol):  \n",
    "            return x  \n",
    "        #prepara nova iteracao  \n",
    "        x0 = np.copy(x)  \n",
    "    raise NameError('num. max. de iteracoes excedido.')"
   ]
  }
 ],
 "metadata": {
  "kernelspec": {
   "display_name": "Python 3",
   "language": "python",
   "name": "python3"
  },
  "language_info": {
   "name": "python",
   "version": "3.11.2"
  },
  "orig_nbformat": 4
 },
 "nbformat": 4,
 "nbformat_minor": 2
}
